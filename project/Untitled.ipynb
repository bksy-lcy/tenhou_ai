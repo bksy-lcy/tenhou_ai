{
 "cells": [
  {
   "cell_type": "code",
   "execution_count": 1,
   "metadata": {},
   "outputs": [
    {
     "name": "stdout",
     "output_type": "stream",
     "text": [
      "[0 1 0 3 0 5 0 0 0]\n"
     ]
    }
   ],
   "source": [
    "import numpy as np\n",
    "num=np.array([0,0,0,0,0,0,0,0,0])\n",
    "num[[1,3,5]]=[1,3,5]\n",
    "print(num)"
   ]
  },
  {
   "cell_type": "code",
   "execution_count": 10,
   "metadata": {},
   "outputs": [
    {
     "name": "stdout",
     "output_type": "stream",
     "text": [
      "[[0]\n",
      " [1]\n",
      " [0]\n",
      " [1]\n",
      " [0]\n",
      " [1]\n",
      " [0]\n",
      " [1]\n",
      " [0]\n",
      " [1]\n",
      " [0]\n",
      " [1]\n",
      " [0]\n",
      " [1]\n",
      " [0]\n",
      " [1]\n",
      " [0]\n",
      " [1]\n",
      " [0]\n",
      " [1]\n",
      " [0]\n",
      " [1]\n",
      " [0]\n",
      " [1]\n",
      " [0]\n",
      " [1]\n",
      " [0]\n",
      " [1]\n",
      " [0]\n",
      " [1]\n",
      " [0]\n",
      " [1]\n",
      " [0]\n",
      " [1]] (34, 1)\n"
     ]
    }
   ],
   "source": [
    "dat=np.array([[1] if i&1 else [0] for i in range(34)])\n",
    "print(dat,dat.shape)"
   ]
  },
  {
   "cell_type": "code",
   "execution_count": 14,
   "metadata": {},
   "outputs": [
    {
     "name": "stdout",
     "output_type": "stream",
     "text": [
      "(4, 2, 1)\n"
     ]
    }
   ],
   "source": [
    "print(np.array([[[1],[2]],[[3],[4]]]+[[[5],[6]],[[7],[8]]]).shape)"
   ]
  },
  {
   "cell_type": "code",
   "execution_count": 15,
   "metadata": {},
   "outputs": [
    {
     "name": "stdout",
     "output_type": "stream",
     "text": [
      "1 40\n",
      "1300\n",
      "[Tanyao]\n",
      "{'fu': 30, 'reason': 'base'}\n",
      "{'fu': 4, 'reason': 'closed_pon'}\n",
      "{'fu': 2, 'reason': 'open_pon'}\n"
     ]
    }
   ],
   "source": [
    "from mahjong.hand_calculating.hand import HandCalculator\n",
    "from mahjong.tile import TilesConverter\n",
    "from mahjong.hand_calculating.hand_config import HandConfig\n",
    "from mahjong.hand_calculating.hand_config import OptionalRules\n",
    "from mahjong.meld import Meld\n",
    "\n",
    "calculator = HandCalculator()\n",
    "\n",
    "# we had to use all 14 tiles in that array\n",
    "tiles = TilesConverter.string_to_136_array(man='23444', pin='333567', sou='444')\n",
    "win_tile = TilesConverter.string_to_136_array(sou='4')[0]\n",
    "melds = [Meld(tiles=TilesConverter.string_to_136_array(pin='333'))]\n",
    "\n",
    "result = calculator.estimate_hand_value(tiles, win_tile, config=HandConfig(options=OptionalRules(has_open_tanyao=True)))\n",
    "\n",
    "print(result.han, result.fu)\n",
    "print(result.cost['main'])\n",
    "print(result.yaku)\n",
    "for fu_item in result.fu_details:\n",
    "    print(fu_item)"
   ]
  },
  {
   "cell_type": "code",
   "execution_count": 8,
   "metadata": {},
   "outputs": [
    {
     "name": "stdout",
     "output_type": "stream",
     "text": [
      "0\n"
     ]
    }
   ],
   "source": [
    "from mahjong.hand_calculating.hand import HandCalculator\n",
    "from mahjong.tile import TilesConverter\n",
    "from mahjong.hand_calculating.hand_config import HandConfig\n",
    "from mahjong.hand_calculating.hand_config import OptionalRules\n",
    "from mahjong.meld import Meld\n",
    "from mahjong.shanten import Shanten\n",
    "\n",
    "shanten = Shanten()\n",
    "tiles = TilesConverter.string_to_34_array(man='112233', pin='445566', sou='78')\n",
    "result = shanten.calculate_shanten(tiles)\n",
    "\n",
    "print(result)"
   ]
  },
  {
   "cell_type": "code",
   "execution_count": null,
   "metadata": {},
   "outputs": [],
   "source": []
  }
 ],
 "metadata": {
  "kernelspec": {
   "display_name": "Python 3",
   "language": "python",
   "name": "python3"
  },
  "language_info": {
   "codemirror_mode": {
    "name": "ipython",
    "version": 3
   },
   "file_extension": ".py",
   "mimetype": "text/x-python",
   "name": "python",
   "nbconvert_exporter": "python",
   "pygments_lexer": "ipython3",
   "version": "3.7.4"
  }
 },
 "nbformat": 4,
 "nbformat_minor": 4
}
