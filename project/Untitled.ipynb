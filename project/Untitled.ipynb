{
 "cells": [
  {
   "cell_type": "code",
   "execution_count": 1,
   "metadata": {},
   "outputs": [
    {
     "name": "stdout",
     "output_type": "stream",
     "text": [
      "[0 1 0 3 0 5 0 0 0]\n"
     ]
    }
   ],
   "source": [
    "import numpy as np\n",
    "num=np.array([0,0,0,0,0,0,0,0,0])\n",
    "num[[1,3,5]]=[1,3,5]\n",
    "print(num)"
   ]
  },
  {
   "cell_type": "code",
   "execution_count": 10,
   "metadata": {},
   "outputs": [
    {
     "name": "stdout",
     "output_type": "stream",
     "text": [
      "[[0]\n",
      " [1]\n",
      " [0]\n",
      " [1]\n",
      " [0]\n",
      " [1]\n",
      " [0]\n",
      " [1]\n",
      " [0]\n",
      " [1]\n",
      " [0]\n",
      " [1]\n",
      " [0]\n",
      " [1]\n",
      " [0]\n",
      " [1]\n",
      " [0]\n",
      " [1]\n",
      " [0]\n",
      " [1]\n",
      " [0]\n",
      " [1]\n",
      " [0]\n",
      " [1]\n",
      " [0]\n",
      " [1]\n",
      " [0]\n",
      " [1]\n",
      " [0]\n",
      " [1]\n",
      " [0]\n",
      " [1]\n",
      " [0]\n",
      " [1]] (34, 1)\n"
     ]
    }
   ],
   "source": [
    "dat=np.array([[1] if i&1 else [0] for i in range(34)])\n",
    "print(dat,dat.shape)"
   ]
  },
  {
   "cell_type": "code",
   "execution_count": 14,
   "metadata": {},
   "outputs": [
    {
     "name": "stdout",
     "output_type": "stream",
     "text": [
      "(4, 2, 1)\n"
     ]
    }
   ],
   "source": [
    "print(np.array([[[1],[2]],[[3],[4]]]+[[[5],[6]],[[7],[8]]]).shape)"
   ]
  },
  {
   "cell_type": "code",
   "execution_count": 15,
   "metadata": {},
   "outputs": [
    {
     "name": "stdout",
     "output_type": "stream",
     "text": [
      "1 40\n",
      "1300\n",
      "[Tanyao]\n",
      "{'fu': 30, 'reason': 'base'}\n",
      "{'fu': 4, 'reason': 'closed_pon'}\n",
      "{'fu': 2, 'reason': 'open_pon'}\n"
     ]
    }
   ],
   "source": [
    "from mahjong.hand_calculating.hand import HandCalculator\n",
    "from mahjong.tile import TilesConverter\n",
    "from mahjong.hand_calculating.hand_config import HandConfig\n",
    "from mahjong.hand_calculating.hand_config import OptionalRules\n",
    "from mahjong.meld import Meld\n",
    "\n",
    "calculator = HandCalculator()\n",
    "\n",
    "# we had to use all 14 tiles in that array\n",
    "tiles = TilesConverter.string_to_136_array(man='23444', pin='333567', sou='444')\n",
    "win_tile = TilesConverter.string_to_136_array(sou='4')[0]\n",
    "melds = [Meld(tiles=TilesConverter.string_to_136_array(pin='333'))]\n",
    "\n",
    "result = calculator.estimate_hand_value(tiles, win_tile, config=HandConfig(options=OptionalRules(has_open_tanyao=True)))\n",
    "\n",
    "print(result.han, result.fu)\n",
    "print(result.cost['main'])\n",
    "print(result.yaku)\n",
    "for fu_item in result.fu_details:\n",
    "    print(fu_item)"
   ]
  },
  {
   "cell_type": "code",
   "execution_count": 8,
   "metadata": {},
   "outputs": [
    {
     "name": "stdout",
     "output_type": "stream",
     "text": [
      "0\n"
     ]
    }
   ],
   "source": [
    "from mahjong.hand_calculating.hand import HandCalculator\n",
    "from mahjong.tile import TilesConverter\n",
    "from mahjong.hand_calculating.hand_config import HandConfig\n",
    "from mahjong.hand_calculating.hand_config import OptionalRules\n",
    "from mahjong.meld import Meld\n",
    "from mahjong.shanten import Shanten\n",
    "\n",
    "shanten = Shanten()\n",
    "tiles = TilesConverter.string_to_34_array(man='112233', pin='445566', sou='78')\n",
    "result = shanten.calculate_shanten(tiles)\n",
    "\n",
    "print(result)"
   ]
  },
  {
   "cell_type": "code",
   "execution_count": 16,
   "metadata": {},
   "outputs": [
    {
     "name": "stdout",
     "output_type": "stream",
     "text": [
      "[1]\n"
     ]
    }
   ],
   "source": [
    "x=[1,2,3][0:1]\n",
    "print(x)"
   ]
  },
  {
   "cell_type": "code",
   "execution_count": 19,
   "metadata": {},
   "outputs": [
    {
     "name": "stdout",
     "output_type": "stream",
     "text": [
      "(1, 136, 1)\n"
     ]
    }
   ],
   "source": [
    "import numpy as np\n",
    "x=np.array([[[1] if (i//4)==27 else [0] for i in range(136)]])\n",
    "print(x.shape)"
   ]
  },
  {
   "cell_type": "code",
   "execution_count": 20,
   "metadata": {},
   "outputs": [
    {
     "name": "stdout",
     "output_type": "stream",
     "text": [
      "(8, 136, 1)\n"
     ]
    }
   ],
   "source": [
    "import numpy as np\n",
    "openhand=np.array([[[0] for i in range(136)] for j in range(8)])\n",
    "print(openhand.shape)"
   ]
  },
  {
   "cell_type": "code",
   "execution_count": 1,
   "metadata": {},
   "outputs": [],
   "source": [
    "for i in range(0):\n",
    "    print(i)"
   ]
  },
  {
   "cell_type": "code",
   "execution_count": 10,
   "metadata": {},
   "outputs": [
    {
     "name": "stdout",
     "output_type": "stream",
     "text": [
      "(0, 3, 0)\n",
      "(0, 8, 0)\n"
     ]
    }
   ],
   "source": [
    "def MCT_Nex(player,opt,state,choice,close_kong=0):\n",
    "    \"\"\"\n",
    "    状态转移函数\n",
    "    \"\"\"\n",
    "    if opt==0 :\n",
    "        if state==0 :\n",
    "            return player,3,0\n",
    "        if state==1 :\n",
    "            return player,3,4\n",
    "    if opt==1 :\n",
    "        if state==0 :\n",
    "            return player,0,0\n",
    "        if state==1 :\n",
    "            return (player+1)%4,0,0\n",
    "        if state==2 :\n",
    "            return player,1,0\n",
    "        if state==3 :\n",
    "            return player,3,7\n",
    "        if state==4 :\n",
    "            return player,0,1\n",
    "        if state==5:\n",
    "            return player,2,0\n",
    "    if opt==2 :\n",
    "        if state==0 :\n",
    "            return player,3,1\n",
    "        if state==1 :\n",
    "            return player,3,2\n",
    "        if state==2 :\n",
    "            return player,3,5\n",
    "        if state==3 :\n",
    "            return player,3,6\n",
    "    if opt==3 :\n",
    "        if state==0 :\n",
    "            if choice==0 :\n",
    "                return player,4,0\n",
    "            else :\n",
    "                return player,8,0\n",
    "        if state==1 :\n",
    "            if choice==0 :\n",
    "                return player,4,1\n",
    "            else :\n",
    "                return player,8,0\n",
    "        if state==2 :\n",
    "            if choice==0 :\n",
    "                return player,4,1\n",
    "            else :\n",
    "                return player,8,0\n",
    "        if state==3 :\n",
    "            if choice==0 :\n",
    "                return player,0,1\n",
    "            else :\n",
    "                return player,8,0\n",
    "        if state==4 :\n",
    "            if choice==0 :\n",
    "                return player,4,2\n",
    "            else :\n",
    "                return player,8,0\n",
    "        if state==5 :\n",
    "            if choice==0 :\n",
    "                return player,4,3\n",
    "            else :\n",
    "                return player,8,0\n",
    "        if state==6 :\n",
    "            if choice==0 :\n",
    "                return player,4,3\n",
    "            else :\n",
    "                return player,8,0\n",
    "        if state==7 :\n",
    "            if choice==0 :\n",
    "                return player,0,1\n",
    "            else :\n",
    "                return player,8,0\n",
    "    if opt==4 :\n",
    "        if state==0:\n",
    "            if choice==0 :\n",
    "                return player,7,0\n",
    "            else :\n",
    "                if close_kong==1:\n",
    "                    return player,1,0\n",
    "                else :\n",
    "                    return player,3,3\n",
    "        if state==1 :\n",
    "            if choice==0 :\n",
    "                return player,5,0\n",
    "            else :\n",
    "                return (player+choice-1)%4,0,1\n",
    "        if state==2:\n",
    "            if choice==0 :\n",
    "                return player,7,1\n",
    "            else :\n",
    "                if close_kong==1:\n",
    "                    return player,1,2\n",
    "                else :\n",
    "                    return player,1,3\n",
    "        if state==3:\n",
    "            if choice==0 :\n",
    "                return player,5,1\n",
    "            else :\n",
    "                return (player+choice-1)%4,1,4\n",
    "    if opt==5 :\n",
    "        if state==0:\n",
    "            if choice==0 :\n",
    "                return player,6,0\n",
    "            else :\n",
    "                return (player+(choice-1)//4)%4,2,0\n",
    "        if state==1:\n",
    "            if choice==0 :\n",
    "                return player,6,1\n",
    "            else :\n",
    "                return (player+(choice-1)//4)%4,1,5\n",
    "    if opt==6 :\n",
    "        if state==0:\n",
    "            if choice==0 :\n",
    "                return (player+1)%4,0,0\n",
    "            else :\n",
    "                return (player+1)%4,2,0\n",
    "        if state==1:\n",
    "            if choice==0 :\n",
    "                return player,1,1\n",
    "            else :\n",
    "                return (player+1)%4,1,5\n",
    "    if opt==7 :\n",
    "        if state==0 :\n",
    "            if choice==0 :\n",
    "                return player,2,0\n",
    "            else :\n",
    "                return player,2,1\n",
    "        if state==1 :\n",
    "            if choice==0 :\n",
    "                return player,2,2\n",
    "            else :\n",
    "                return player,2,3\n",
    "    return -1,-1,-1\n",
    "print(MCT_Nex(0,0,0,0,0))\n",
    "print(MCT_Nex(0,3,1,136,0))"
   ]
  },
  {
   "cell_type": "code",
   "execution_count": 8,
   "metadata": {},
   "outputs": [
    {
     "name": "stdout",
     "output_type": "stream",
     "text": [
      "225\n"
     ]
    }
   ],
   "source": [
    "def func(x):\n",
    "    return x*x\n",
    "\n",
    "print(func(15))"
   ]
  },
  {
   "cell_type": "code",
   "execution_count": null,
   "metadata": {},
   "outputs": [],
   "source": []
  }
 ],
 "metadata": {
  "kernelspec": {
   "display_name": "Python 3",
   "language": "python",
   "name": "python3"
  },
  "language_info": {
   "codemirror_mode": {
    "name": "ipython",
    "version": 3
   },
   "file_extension": ".py",
   "mimetype": "text/x-python",
   "name": "python",
   "nbconvert_exporter": "python",
   "pygments_lexer": "ipython3",
   "version": "3.7.4"
  }
 },
 "nbformat": 4,
 "nbformat_minor": 4
}
